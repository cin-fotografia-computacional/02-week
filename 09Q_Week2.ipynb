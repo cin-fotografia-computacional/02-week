{
  "nbformat": 4,
  "nbformat_minor": 0,
  "metadata": {
    "colab": {
      "provenance": [],
      "authorship_tag": "ABX9TyPn/d+lq4Be9gw5ZKOzknBW",
      "include_colab_link": true
    },
    "kernelspec": {
      "name": "python3",
      "display_name": "Python 3"
    },
    "language_info": {
      "name": "python"
    }
  },
  "cells": [
    {
      "cell_type": "markdown",
      "metadata": {
        "id": "view-in-github",
        "colab_type": "text"
      },
      "source": [
        "<a href=\"https://colab.research.google.com/github/cin-fotografia-computacional/02-week/blob/main/09Q_Week2.ipynb\" target=\"_parent\"><img src=\"https://colab.research.google.com/assets/colab-badge.svg\" alt=\"Open In Colab\"/></a>"
      ]
    },
    {
      "cell_type": "code",
      "execution_count": null,
      "metadata": {
        "id": "m7_LD3JB8w0M"
      },
      "outputs": [],
      "source": [
        "#em cada canal dos modelos RGB e CMY.\n",
        "#Então assinale abaixo a intensidade média dos pixels correspondente às componentes R, G, B, C, M e Y, respectivamente, considerando a denormalização dos tons de cinza, onde cada canal ocupa o intervalo [0;255]"
      ]
    },
    {
      "cell_type": "code",
      "source": [
        "!git clone https://github.com/kevinruiz182/image_processing_tools"
      ],
      "metadata": {
        "colab": {
          "base_uri": "https://localhost:8080/"
        },
        "id": "s7fTxP6m-ijT",
        "outputId": "61cac1f6-e9e2-4518-c639-e11d21a9d048"
      },
      "execution_count": null,
      "outputs": [
        {
          "output_type": "stream",
          "name": "stdout",
          "text": [
            "Cloning into 'image_processing_tools'...\n",
            "remote: Enumerating objects: 122, done.\u001b[K\n",
            "remote: Counting objects: 100% (14/14), done.\u001b[K\n",
            "remote: Compressing objects: 100% (11/11), done.\u001b[K\n",
            "remote: Total 122 (delta 2), reused 10 (delta 2), pack-reused 108\u001b[K\n",
            "Receiving objects: 100% (122/122), 46.98 MiB | 22.10 MiB/s, done.\n",
            "Resolving deltas: 100% (15/15), done.\n"
          ]
        }
      ]
    },
    {
      "cell_type": "code",
      "source": [
        "import cv2\n",
        "import numpy as np\n",
        "\n",
        "# Carregando a imagem\n",
        "image_path = '/content/image_processing_tools/images/general/baboon.png'\n",
        "image = cv2.imread(image_path)\n",
        "\n",
        "# Dividindo em canais RGB\n",
        "blue_channel, green_channel, red_channel = cv2.split(image)\n",
        "\n",
        "# Criando canais CMY\n",
        "cyan_channel = 255 - red_channel\n",
        "magenta_channel = 255 - green_channel\n",
        "yellow_channel = 255 - blue_channel\n",
        "\n",
        "# Calculando a intensidade média dos pixels para cada canal\n",
        "mean_intensity_R = np.mean(red_channel)\n",
        "mean_intensity_G = np.mean(green_channel)\n",
        "mean_intensity_B = np.mean(blue_channel)\n",
        "mean_intensity_C = np.mean(cyan_channel)\n",
        "mean_intensity_M = np.mean(magenta_channel)\n",
        "mean_intensity_Y = np.mean(yellow_channel)\n",
        "\n",
        "# Imprimindo os resultados\n",
        "print(f'Média Intensidade R: {mean_intensity_R}')\n",
        "print(f'Média Intensidade G: {mean_intensity_G}')\n",
        "print(f'Média Intensidade B: {mean_intensity_B}')\n",
        "print(f'Média Intensidade C: {mean_intensity_C}')\n",
        "print(f'Média Intensidade M: {mean_intensity_M}')\n",
        "print(f'Média Intensidade Y: {mean_intensity_Y}')\n"
      ],
      "metadata": {
        "colab": {
          "base_uri": "https://localhost:8080/"
        },
        "id": "5CI0Z7tA9nvF",
        "outputId": "9a5323e2-943a-49ef-8e33-9d3635e98cc3"
      },
      "execution_count": null,
      "outputs": [
        {
          "output_type": "stream",
          "name": "stdout",
          "text": [
            "Média Intensidade R: 137.33385467529297\n",
            "Média Intensidade G: 128.8556022644043\n",
            "Média Intensidade B: 113.17748641967773\n",
            "Média Intensidade C: 117.66614532470703\n",
            "Média Intensidade M: 126.1443977355957\n",
            "Média Intensidade Y: 141.82251358032227\n"
          ]
        }
      ]
    },
    {
      "cell_type": "code",
      "source": [
        "blue_channel"
      ],
      "metadata": {
        "colab": {
          "base_uri": "https://localhost:8080/"
        },
        "id": "Du0l5RdJELwx",
        "outputId": "9d7356c1-4ef3-49f5-c1a8-95fc6ea64c17"
      },
      "execution_count": null,
      "outputs": [
        {
          "output_type": "execute_result",
          "data": {
            "text/plain": [
              "(512, 512)"
            ]
          },
          "metadata": {},
          "execution_count": 8
        }
      ]
    }
  ]
}